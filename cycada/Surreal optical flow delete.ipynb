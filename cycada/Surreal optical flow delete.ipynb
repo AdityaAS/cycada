{
 "cells": [
  {
   "cell_type": "code",
   "execution_count": 3,
   "metadata": {},
   "outputs": [],
   "source": [
    "from os.path import join, exists\n",
    "from glob import glob\n",
    "root_path = '/scratch/users/aditya/adult/SURREAL/surreal/download/SURREAL/data/cmu/'\n",
    "\n",
    "splits = ['train', 'test', 'val']\n",
    "runs = ['run0', 'run1', 'run2']\n",
    "\n",
    "import os\n",
    "\n",
    "for split in splits:\n",
    "    for run in runs:\n",
    "        runpath = join(root_path, split, run)\n",
    "        subjects = glob(join(runpath, '*'))\n",
    "        for subject in subjects:\n",
    "            gtflows = glob(join(subject, '*_gtflow.mat'))\n",
    "            for gtflow in gtflows:\n",
    "                os.remove(gtflow)"
   ]
  },
  {
   "cell_type": "code",
   "execution_count": 8,
   "metadata": {},
   "outputs": [],
   "source": [
    "from os.path import join, exists\n",
    "from glob import glob\n",
    "root_path = '/scratch/users/aditya/adult/SURREAL/surreal/download/SURREAL/data/surreal/'\n",
    "\n",
    "splits = ['train', 'test', 'val']\n",
    "runs = ['run0', 'run1', 'run2']\n",
    "\n",
    "\n",
    "import os\n",
    "\n",
    "for split in splits:\n",
    "    for run in runs:\n",
    "        runpath = join(root_path, split, run)\n",
    "        subjects = glob(join(runpath, '*'))\n",
    "        for subject in subjects:\n",
    "            imagefolders = sorted(glob(join(subject, 'segmasks', '*')))\n",
    "            for imagefolder in imagefolders:\n",
    "                images = sorted(glob(join(imagefolder.replace('segmasks', 'images'), '*')))\n",
    "                segmasks = sorted(glob(join(imagefolder, '*')))\n",
    "                if len(images) != len(segmasks):\n",
    "                    print(\"Dayumm!\")"
   ]
  },
  {
   "cell_type": "code",
   "execution_count": null,
   "metadata": {},
   "outputs": [],
   "source": []
  }
 ],
 "metadata": {
  "kernelspec": {
   "display_name": "Python [conda env:pytorch_p37] *",
   "language": "python",
   "name": "conda-env-pytorch_p37-py"
  },
  "language_info": {
   "codemirror_mode": {
    "name": "ipython",
    "version": 3
   },
   "file_extension": ".py",
   "mimetype": "text/x-python",
   "name": "python",
   "nbconvert_exporter": "python",
   "pygments_lexer": "ipython3",
   "version": "3.6.8"
  }
 },
 "nbformat": 4,
 "nbformat_minor": 2
}
